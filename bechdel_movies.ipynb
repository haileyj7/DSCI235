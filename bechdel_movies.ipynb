{
 "cells": [
  {
   "cell_type": "markdown",
   "id": "0eaf53b5",
   "metadata": {},
   "source": [
    "# Final Project"
   ]
  },
  {
   "cell_type": "markdown",
   "id": "71c969ef",
   "metadata": {},
   "source": [
    "Github: https://github.com/haileyj7/DSCI235"
   ]
  },
  {
   "cell_type": "markdown",
   "id": "753ed0f2",
   "metadata": {},
   "source": [
    "Data Sources:\n",
    "- https://data.world/fivethirtyeight/bechdel\n",
    "- https://www.kaggle.com/datasets/rounakbanik/the-movies-dataset?select=movies_metadata.csv"
   ]
  },
  {
   "cell_type": "markdown",
   "id": "9996b573",
   "metadata": {},
   "source": [
    "## Project Description\n",
    "Representation is a hot topic right now, and many pushes are being made to diversify the entertainment industry and represent different identities more often and in better ways. One measure of inclusivity that has gained much traction is the Bechdel Test, which started from a comic strip by Alison Bechdel in 1985.\n",
    "\n",
    "For a film to “pass” the Bechdel Test, it must (1) have two named female characters, who (2) talk to each other, and (3) the conversation can’t be about a man. It's not an exhaustive measure of feminism, but is one insight into representation of women in movies.\n",
    "\n",
    "Some of the questions I intend to answer in this project include:\n",
    "- How have bechdel score rates changed over time?\n",
    "- Do bechdel scores have an influence on ratings or ROI?\n",
    "- Do movies with lower/higher budgets have lower/higher bechdel scores? What does this say about representation in more 'mainstream' movies?\n"
   ]
  },
  {
   "cell_type": "code",
   "execution_count": 117,
   "id": "4cea78dd",
   "metadata": {},
   "outputs": [
    {
     "data": {
      "application/javascript": [
       "IPython.notebook.set_autosave_interval(60000)"
      ]
     },
     "metadata": {},
     "output_type": "display_data"
    },
    {
     "name": "stdout",
     "output_type": "stream",
     "text": [
      "Autosaving every 60 seconds\n"
     ]
    }
   ],
   "source": [
    "import pandas as pd\n",
    "import numpy as np\n",
    "from matplotlib import pyplot as plt\n",
    "%autosave 60"
   ]
  },
  {
   "cell_type": "markdown",
   "id": "c4d4f004",
   "metadata": {},
   "source": [
    "Loading in the data:"
   ]
  },
  {
   "cell_type": "code",
   "execution_count": 118,
   "id": "ff1df695",
   "metadata": {},
   "outputs": [],
   "source": [
    "movies_full = pd.read_csv('https://raw.githubusercontent.com/haileyj7/DSCI235/main/bechdel_movies.csv', dtype={'imdb': 'str'})\n",
    "movies = movies_full.drop(columns=['test','code','period code', 'decade code'])\n",
    "movies = movies.sort_values(['year'])\n",
    "movies = movies.rename(columns={'intgross': 'wwgross', 'intgross_2013$': 'wwgross_2013$', 'clean_test': 'bechdel'})"
   ]
  },
  {
   "cell_type": "code",
   "execution_count": 119,
   "id": "49913845",
   "metadata": {},
   "outputs": [],
   "source": [
    "movies = movies.sort_values('year', ascending=False)"
   ]
  },
  {
   "cell_type": "code",
   "execution_count": 120,
   "id": "36f37643",
   "metadata": {},
   "outputs": [],
   "source": [
    "metadata = pd.read_csv('https://raw.githubusercontent.com/haileyj7/DSCI235/main/movies_metadata.csv', dtype = {'imdb_id': 'str'}, engine='python')\n",
    "metadata = metadata.drop(columns=['adult', 'belongs_to_collection', 'genres', 'homepage', 'overview', 'poster_path',\n",
    "                                  'production_companies', 'production_countries', 'spoken_languages', 'status', 'tagline',\n",
    "                                  'video', 'budget', 'original_language', 'original_title', 'release_date', 'revenue',\n",
    "                                 'vote_count'])"
   ]
  },
  {
   "cell_type": "markdown",
   "id": "ebb45bac",
   "metadata": {},
   "source": [
    "I will combine these two datasets later so I can look at ratings and bechdel scores in the same dataset."
   ]
  },
  {
   "cell_type": "code",
   "execution_count": 121,
   "id": "7e0a39ce",
   "metadata": {},
   "outputs": [
    {
     "data": {
      "text/html": [
       "<div>\n",
       "<style scoped>\n",
       "    .dataframe tbody tr th:only-of-type {\n",
       "        vertical-align: middle;\n",
       "    }\n",
       "\n",
       "    .dataframe tbody tr th {\n",
       "        vertical-align: top;\n",
       "    }\n",
       "\n",
       "    .dataframe thead th {\n",
       "        text-align: right;\n",
       "    }\n",
       "</style>\n",
       "<table border=\"1\" class=\"dataframe\">\n",
       "  <thead>\n",
       "    <tr style=\"text-align: right;\">\n",
       "      <th></th>\n",
       "      <th>index</th>\n",
       "      <th>year</th>\n",
       "      <th>imdb</th>\n",
       "      <th>bechdel</th>\n",
       "      <th>binary</th>\n",
       "      <th>budget</th>\n",
       "      <th>domgross</th>\n",
       "      <th>wwgross</th>\n",
       "      <th>budget_2013$</th>\n",
       "      <th>domgross_2013$</th>\n",
       "      <th>wwgross_2013$</th>\n",
       "    </tr>\n",
       "  </thead>\n",
       "  <tbody>\n",
       "    <tr>\n",
       "      <th>0</th>\n",
       "      <td>1177</td>\n",
       "      <td>2001</td>\n",
       "      <td>tt0035423</td>\n",
       "      <td>men</td>\n",
       "      <td>FAIL</td>\n",
       "      <td>48000000</td>\n",
       "      <td>47095453.0</td>\n",
       "      <td>70937778.0</td>\n",
       "      <td>63160606</td>\n",
       "      <td>61970361.0</td>\n",
       "      <td>93343188.0</td>\n",
       "    </tr>\n",
       "    <tr>\n",
       "      <th>1</th>\n",
       "      <td>1793</td>\n",
       "      <td>1970</td>\n",
       "      <td>tt0065466</td>\n",
       "      <td>ok</td>\n",
       "      <td>PASS</td>\n",
       "      <td>1000000</td>\n",
       "      <td>9000000.0</td>\n",
       "      <td>9000000.0</td>\n",
       "      <td>5997631</td>\n",
       "      <td>53978683.0</td>\n",
       "      <td>53978683.0</td>\n",
       "    </tr>\n",
       "    <tr>\n",
       "      <th>2</th>\n",
       "      <td>1788</td>\n",
       "      <td>1971</td>\n",
       "      <td>tt0067065</td>\n",
       "      <td>notalk</td>\n",
       "      <td>FAIL</td>\n",
       "      <td>2500000</td>\n",
       "      <td>12300000.0</td>\n",
       "      <td>12300000.0</td>\n",
       "      <td>14386286</td>\n",
       "      <td>70780525.0</td>\n",
       "      <td>70780525.0</td>\n",
       "    </tr>\n",
       "    <tr>\n",
       "      <th>3</th>\n",
       "      <td>1791</td>\n",
       "      <td>1971</td>\n",
       "      <td>tt0067116</td>\n",
       "      <td>notalk</td>\n",
       "      <td>FAIL</td>\n",
       "      <td>2200000</td>\n",
       "      <td>41158757.0</td>\n",
       "      <td>41158757.0</td>\n",
       "      <td>12659931</td>\n",
       "      <td>236848653.0</td>\n",
       "      <td>236848653.0</td>\n",
       "    </tr>\n",
       "    <tr>\n",
       "      <th>4</th>\n",
       "      <td>1789</td>\n",
       "      <td>1971</td>\n",
       "      <td>tt0067741</td>\n",
       "      <td>notalk</td>\n",
       "      <td>FAIL</td>\n",
       "      <td>53012938</td>\n",
       "      <td>70327868.0</td>\n",
       "      <td>107190108.0</td>\n",
       "      <td>305063707</td>\n",
       "      <td>404702718.0</td>\n",
       "      <td>616827003.0</td>\n",
       "    </tr>\n",
       "    <tr>\n",
       "      <th>...</th>\n",
       "      <td>...</td>\n",
       "      <td>...</td>\n",
       "      <td>...</td>\n",
       "      <td>...</td>\n",
       "      <td>...</td>\n",
       "      <td>...</td>\n",
       "      <td>...</td>\n",
       "      <td>...</td>\n",
       "      <td>...</td>\n",
       "      <td>...</td>\n",
       "      <td>...</td>\n",
       "    </tr>\n",
       "    <tr>\n",
       "      <th>1778</th>\n",
       "      <td>98</td>\n",
       "      <td>2013</td>\n",
       "      <td>tt2334879</td>\n",
       "      <td>men</td>\n",
       "      <td>FAIL</td>\n",
       "      <td>150000000</td>\n",
       "      <td>73103784.0</td>\n",
       "      <td>205440387.0</td>\n",
       "      <td>150000000</td>\n",
       "      <td>73103784.0</td>\n",
       "      <td>205440387.0</td>\n",
       "    </tr>\n",
       "    <tr>\n",
       "      <th>1779</th>\n",
       "      <td>58</td>\n",
       "      <td>2013</td>\n",
       "      <td>tt2364841</td>\n",
       "      <td>nowomen</td>\n",
       "      <td>FAIL</td>\n",
       "      <td>30000000</td>\n",
       "      <td>19316646.0</td>\n",
       "      <td>62616646.0</td>\n",
       "      <td>30000000</td>\n",
       "      <td>19316646.0</td>\n",
       "      <td>62616646.0</td>\n",
       "    </tr>\n",
       "    <tr>\n",
       "      <th>1780</th>\n",
       "      <td>71</td>\n",
       "      <td>2013</td>\n",
       "      <td>tt2404311</td>\n",
       "      <td>men</td>\n",
       "      <td>FAIL</td>\n",
       "      <td>30000000</td>\n",
       "      <td>36918811.0</td>\n",
       "      <td>51078541.0</td>\n",
       "      <td>30000000</td>\n",
       "      <td>36918811.0</td>\n",
       "      <td>51078541.0</td>\n",
       "    </tr>\n",
       "    <tr>\n",
       "      <th>1781</th>\n",
       "      <td>76</td>\n",
       "      <td>2013</td>\n",
       "      <td>tt2404463</td>\n",
       "      <td>ok</td>\n",
       "      <td>PASS</td>\n",
       "      <td>43000000</td>\n",
       "      <td>159581587.0</td>\n",
       "      <td>230781587.0</td>\n",
       "      <td>43000000</td>\n",
       "      <td>159581587.0</td>\n",
       "      <td>230781587.0</td>\n",
       "    </tr>\n",
       "    <tr>\n",
       "      <th>1782</th>\n",
       "      <td>29</td>\n",
       "      <td>2013</td>\n",
       "      <td>tt2425486</td>\n",
       "      <td>ok</td>\n",
       "      <td>PASS</td>\n",
       "      <td>30000000</td>\n",
       "      <td>4167493.0</td>\n",
       "      <td>4967493.0</td>\n",
       "      <td>30000000</td>\n",
       "      <td>4167493.0</td>\n",
       "      <td>4967493.0</td>\n",
       "    </tr>\n",
       "  </tbody>\n",
       "</table>\n",
       "<p>1783 rows × 11 columns</p>\n",
       "</div>"
      ],
      "text/plain": [
       "      index  year       imdb  bechdel binary     budget     domgross  \\\n",
       "0      1177  2001  tt0035423      men   FAIL   48000000   47095453.0   \n",
       "1      1793  1970  tt0065466       ok   PASS    1000000    9000000.0   \n",
       "2      1788  1971  tt0067065   notalk   FAIL    2500000   12300000.0   \n",
       "3      1791  1971  tt0067116   notalk   FAIL    2200000   41158757.0   \n",
       "4      1789  1971  tt0067741   notalk   FAIL   53012938   70327868.0   \n",
       "...     ...   ...        ...      ...    ...        ...          ...   \n",
       "1778     98  2013  tt2334879      men   FAIL  150000000   73103784.0   \n",
       "1779     58  2013  tt2364841  nowomen   FAIL   30000000   19316646.0   \n",
       "1780     71  2013  tt2404311      men   FAIL   30000000   36918811.0   \n",
       "1781     76  2013  tt2404463       ok   PASS   43000000  159581587.0   \n",
       "1782     29  2013  tt2425486       ok   PASS   30000000    4167493.0   \n",
       "\n",
       "          wwgross  budget_2013$  domgross_2013$  wwgross_2013$  \n",
       "0      70937778.0      63160606      61970361.0     93343188.0  \n",
       "1       9000000.0       5997631      53978683.0     53978683.0  \n",
       "2      12300000.0      14386286      70780525.0     70780525.0  \n",
       "3      41158757.0      12659931     236848653.0    236848653.0  \n",
       "4     107190108.0     305063707     404702718.0    616827003.0  \n",
       "...           ...           ...             ...            ...  \n",
       "1778  205440387.0     150000000      73103784.0    205440387.0  \n",
       "1779   62616646.0      30000000      19316646.0     62616646.0  \n",
       "1780   51078541.0      30000000      36918811.0     51078541.0  \n",
       "1781  230781587.0      43000000     159581587.0    230781587.0  \n",
       "1782    4967493.0      30000000       4167493.0      4967493.0  \n",
       "\n",
       "[1783 rows x 11 columns]"
      ]
     },
     "execution_count": 121,
     "metadata": {},
     "output_type": "execute_result"
    }
   ],
   "source": [
    "index2 = movies['imdb'].isin(metadata['imdb_id'])\n",
    "movies_g = movies[index2]\n",
    "movies_g = movies_g.sort_values('imdb')\n",
    "movies_g.reset_index(inplace=True)\n",
    "movies_g = movies_g.drop(columns=['title'])\n",
    "movies_g"
   ]
  },
  {
   "cell_type": "markdown",
   "id": "62dc44bc",
   "metadata": {},
   "source": [
    "First, I want to look at how frequency of different bechdel scores have changed over time."
   ]
  },
  {
   "cell_type": "code",
   "execution_count": 122,
   "id": "72973751",
   "metadata": {},
   "outputs": [
    {
     "data": {
      "image/png": "[encoded data removed]",
      "text/plain": [
       "<Figure size 432x288 with 1 Axes>"
      ]
     },
     "metadata": {
      "needs_background": "light"
     },
     "output_type": "display_data"
    }
   ],
   "source": [
    "# ok = 3, men = 2, notalk = 1, nowomen = 0, dubious = debated\n",
    "movies_g['year2'] = movies_g['year']\n",
    "movies_g = movies_g.set_index('year2')\n",
    "scores_counts = pd.DataFrame(dtype='int64')\n",
    "\n",
    "def scores(x):\n",
    "    global scores_counts\n",
    "    year = x.index.get_level_values(0)[0]\n",
    "    totals = x['bechdel'].value_counts()\n",
    "    totals = totals.sort_index(axis=0)\n",
    "    if totals.shape == (5,):\n",
    "        toConcat = pd.DataFrame([[year, totals[4], totals[1], totals[2], totals[3]]],\n",
    "                                 columns=['year','3','2','1','0'])\n",
    "        scores_counts = pd.concat([scores_counts, toConcat])\n",
    "                                 \n",
    "by_year = movies_g.groupby(['year'])\n",
    "by_year.apply(scores)\n",
    "\n",
    "scores_counts = scores_counts.reset_index()\n",
    "scores_counts = scores_counts.drop(columns=['index'])\n",
    "\n",
    "plt.plot('year', '3', '', data=scores_counts, label='3 (Passes)')\n",
    "plt.plot('year', '2', '', data=scores_counts, label='2 (Talked about men)')\n",
    "plt.plot('year', '1', '', data=scores_counts, label='1 (Didn\\'t talk)')\n",
    "plt.plot('year', '0', '', data=scores_counts, label='0 (No women)')\n",
    "plt.legend()\n",
    "plt.xlabel('Year')\n",
    "plt.ylabel('Counts')\n",
    "plt.title('Bechdel Score by Year');"
   ]
  },
  {
   "cell_type": "markdown",
   "id": "a6285713",
   "metadata": {},
   "source": [
    "There aren't many counts until around 1995 when there is more data collected, so let's focus on that."
   ]
  },
  {
   "cell_type": "code",
   "execution_count": 123,
   "id": "6bea7f89",
   "metadata": {},
   "outputs": [
    {
     "data": {
      "image/png": "[encoded data removed]",
      "text/plain": [
       "<Figure size 432x288 with 1 Axes>"
      ]
     },
     "metadata": {
      "needs_background": "light"
     },
     "output_type": "display_data"
    }
   ],
   "source": [
    "recent = scores_counts[10:]\n",
    "recent = recent.reset_index()\n",
    "\n",
    "plt.plot('year', '3', '', data=recent, label='3 (Passes)')\n",
    "plt.plot('year', '2', '', data=recent, label='2 (Talked about men)')\n",
    "plt.plot('year', '1', '', data=recent, label='1 (Didn\\'t talk)')\n",
    "plt.plot('year', '0', '', data=recent, label='0 (No women)')\n",
    "plt.legend()\n",
    "plt.xlabel('Year')\n",
    "plt.ylabel('Counts')\n",
    "plt.title('Bechdel Score by Year');"
   ]
  },
  {
   "cell_type": "markdown",
   "id": "c624c3cc",
   "metadata": {},
   "source": [
    "The passing score is the highest all around! Now what if I go by the binary PASS/FAIL?"
   ]
  },
  {
   "cell_type": "code",
   "execution_count": 124,
   "id": "7c7c1f37",
   "metadata": {},
   "outputs": [
    {
     "data": {
      "image/png": "[encoded data removed]",
      "text/plain": [
       "<Figure size 432x288 with 1 Axes>"
      ]
     },
     "metadata": {
      "needs_background": "light"
     },
     "output_type": "display_data"
    }
   ],
   "source": [
    "recentpf = recent\n",
    "recentpf['pass'] = recentpf['3']\n",
    "recentpf['fail'] = recentpf['2'] + recentpf['1'] + recentpf['0']\n",
    "recentpf = recentpf.drop(columns=['3','2','1','0'])\n",
    "\n",
    "plt.plot('year', 'pass', data=recentpf, label='Pass')\n",
    "plt.plot('year', 'fail', data=recentpf, label='Fail')\n",
    "plt.legend()\n",
    "plt.xlabel('Year')\n",
    "plt.ylabel('Counts')\n",
    "plt.title('Bechdel Pass/Fail by Year');"
   ]
  },
  {
   "cell_type": "markdown",
   "id": "3e2fa6b7",
   "metadata": {},
   "source": [
    "Now it's much closer. I thought that we'd see higher frequencies of passing scores as time increased, but I don't see evidence of that happening. Rather, we just have more movies in the dataset for later years, but not higher scores."
   ]
  },
  {
   "cell_type": "markdown",
   "id": "7f776769",
   "metadata": {},
   "source": [
    "To look at Return on Investment scores, I will add a category where I take the worldwide gross values in 2013 dollars, divide by the budget in 2013 dollars, and then multiply by 100."
   ]
  },
  {
   "cell_type": "code",
   "execution_count": 125,
   "id": "aa23367d",
   "metadata": {},
   "outputs": [
    {
     "data": {
      "text/html": [
       "<div>\n",
       "<style scoped>\n",
       "    .dataframe tbody tr th:only-of-type {\n",
       "        vertical-align: middle;\n",
       "    }\n",
       "\n",
       "    .dataframe tbody tr th {\n",
       "        vertical-align: top;\n",
       "    }\n",
       "\n",
       "    .dataframe thead th {\n",
       "        text-align: right;\n",
       "    }\n",
       "</style>\n",
       "<table border=\"1\" class=\"dataframe\">\n",
       "  <thead>\n",
       "    <tr style=\"text-align: right;\">\n",
       "      <th></th>\n",
       "      <th>index</th>\n",
       "      <th>year</th>\n",
       "      <th>imdb</th>\n",
       "      <th>bechdel</th>\n",
       "      <th>binary</th>\n",
       "      <th>budget</th>\n",
       "      <th>domgross</th>\n",
       "      <th>wwgross</th>\n",
       "      <th>budget_2013$</th>\n",
       "      <th>domgross_2013$</th>\n",
       "      <th>wwgross_2013$</th>\n",
       "      <th>ROI</th>\n",
       "    </tr>\n",
       "    <tr>\n",
       "      <th>year2</th>\n",
       "      <th></th>\n",
       "      <th></th>\n",
       "      <th></th>\n",
       "      <th></th>\n",
       "      <th></th>\n",
       "      <th></th>\n",
       "      <th></th>\n",
       "      <th></th>\n",
       "      <th></th>\n",
       "      <th></th>\n",
       "      <th></th>\n",
       "      <th></th>\n",
       "    </tr>\n",
       "  </thead>\n",
       "  <tbody>\n",
       "    <tr>\n",
       "      <th>2001</th>\n",
       "      <td>1177</td>\n",
       "      <td>2001</td>\n",
       "      <td>tt0035423</td>\n",
       "      <td>men</td>\n",
       "      <td>FAIL</td>\n",
       "      <td>48000000</td>\n",
       "      <td>47095453.0</td>\n",
       "      <td>70937778.0</td>\n",
       "      <td>63160606</td>\n",
       "      <td>61970361.0</td>\n",
       "      <td>93343188.0</td>\n",
       "      <td>147.787037</td>\n",
       "    </tr>\n",
       "    <tr>\n",
       "      <th>1971</th>\n",
       "      <td>1789</td>\n",
       "      <td>1971</td>\n",
       "      <td>tt0067741</td>\n",
       "      <td>notalk</td>\n",
       "      <td>FAIL</td>\n",
       "      <td>53012938</td>\n",
       "      <td>70327868.0</td>\n",
       "      <td>107190108.0</td>\n",
       "      <td>305063707</td>\n",
       "      <td>404702718.0</td>\n",
       "      <td>616827003.0</td>\n",
       "      <td>202.196128</td>\n",
       "    </tr>\n",
       "    <tr>\n",
       "      <th>1971</th>\n",
       "      <td>1790</td>\n",
       "      <td>1971</td>\n",
       "      <td>tt0067800</td>\n",
       "      <td>notalk</td>\n",
       "      <td>FAIL</td>\n",
       "      <td>25000000</td>\n",
       "      <td>10324441.0</td>\n",
       "      <td>11253821.0</td>\n",
       "      <td>143862856</td>\n",
       "      <td>59412143.0</td>\n",
       "      <td>64760273.0</td>\n",
       "      <td>45.015284</td>\n",
       "    </tr>\n",
       "    <tr>\n",
       "      <th>1971</th>\n",
       "      <td>1792</td>\n",
       "      <td>1971</td>\n",
       "      <td>tt0067992</td>\n",
       "      <td>men</td>\n",
       "      <td>FAIL</td>\n",
       "      <td>3000000</td>\n",
       "      <td>4000000.0</td>\n",
       "      <td>4000000.0</td>\n",
       "      <td>17263543</td>\n",
       "      <td>23018057.0</td>\n",
       "      <td>23018057.0</td>\n",
       "      <td>133.333331</td>\n",
       "    </tr>\n",
       "    <tr>\n",
       "      <th>1973</th>\n",
       "      <td>1781</td>\n",
       "      <td>1973</td>\n",
       "      <td>tt0068699</td>\n",
       "      <td>notalk</td>\n",
       "      <td>FAIL</td>\n",
       "      <td>15700000</td>\n",
       "      <td>15700000.0</td>\n",
       "      <td>15700000.0</td>\n",
       "      <td>82329139</td>\n",
       "      <td>82329139.0</td>\n",
       "      <td>82329139.0</td>\n",
       "      <td>100.000000</td>\n",
       "    </tr>\n",
       "  </tbody>\n",
       "</table>\n",
       "</div>"
      ],
      "text/plain": [
       "       index  year       imdb bechdel binary    budget    domgross  \\\n",
       "year2                                                                \n",
       "2001    1177  2001  tt0035423     men   FAIL  48000000  47095453.0   \n",
       "1971    1789  1971  tt0067741  notalk   FAIL  53012938  70327868.0   \n",
       "1971    1790  1971  tt0067800  notalk   FAIL  25000000  10324441.0   \n",
       "1971    1792  1971  tt0067992     men   FAIL   3000000   4000000.0   \n",
       "1973    1781  1973  tt0068699  notalk   FAIL  15700000  15700000.0   \n",
       "\n",
       "           wwgross  budget_2013$  domgross_2013$  wwgross_2013$         ROI  \n",
       "year2                                                                        \n",
       "2001    70937778.0      63160606      61970361.0     93343188.0  147.787037  \n",
       "1971   107190108.0     305063707     404702718.0    616827003.0  202.196128  \n",
       "1971    11253821.0     143862856      59412143.0     64760273.0   45.015284  \n",
       "1971     4000000.0      17263543      23018057.0     23018057.0  133.333331  \n",
       "1973    15700000.0      82329139      82329139.0     82329139.0  100.000000  "
      ]
     },
     "execution_count": 125,
     "metadata": {},
     "output_type": "execute_result"
    }
   ],
   "source": [
    "movies_g['ROI'] = (movies_g['wwgross_2013$'] / movies_g['budget_2013$']) * 100\n",
    "small = movies_g[movies_g['ROI'] < 400]\n",
    "small.head()"
   ]
  },
  {
   "cell_type": "code",
   "execution_count": 126,
   "id": "e6f8691c",
   "metadata": {},
   "outputs": [
    {
     "data": {
      "image/png": "[encoded data removed]",
      "text/plain": [
       "<Figure size 432x288 with 2 Axes>"
      ]
     },
     "metadata": {
      "needs_background": "light"
     },
     "output_type": "display_data"
    }
   ],
   "source": [
    "medium = movies_g[(movies_g['ROI'] > 399) & (movies_g['ROI'] < 2000)]\n",
    "medium['ROI'].hist(by=medium['binary'], sharey = True, bins=50);"
   ]
  },
  {
   "cell_type": "code",
   "execution_count": 127,
   "id": "cc687569",
   "metadata": {},
   "outputs": [
    {
     "data": {
      "image/png": "[encoded data removed]",
      "text/plain": [
       "<Figure size 432x288 with 6 Axes>"
      ]
     },
     "metadata": {
      "needs_background": "light"
     },
     "output_type": "display_data"
    }
   ],
   "source": [
    "large = movies_g[movies_g['ROI'] > 1999]\n",
    "large['ROI'].hist(by=large['bechdel'],sharey=True,bins=50);"
   ]
  },
  {
   "cell_type": "markdown",
   "id": "236cc6fb",
   "metadata": {},
   "source": [
    "This is just exploratory analysis, but there doesn't seem to be much of a connection between bechdel scores and ROI."
   ]
  },
  {
   "cell_type": "code",
   "execution_count": 128,
   "id": "64a3b133",
   "metadata": {},
   "outputs": [
    {
     "data": {
      "text/html": [
       "<div>\n",
       "<style scoped>\n",
       "    .dataframe tbody tr th:only-of-type {\n",
       "        vertical-align: middle;\n",
       "    }\n",
       "\n",
       "    .dataframe tbody tr th {\n",
       "        vertical-align: top;\n",
       "    }\n",
       "\n",
       "    .dataframe thead th {\n",
       "        text-align: right;\n",
       "    }\n",
       "</style>\n",
       "<table border=\"1\" class=\"dataframe\">\n",
       "  <thead>\n",
       "    <tr style=\"text-align: right;\">\n",
       "      <th></th>\n",
       "      <th>index</th>\n",
       "      <th>id</th>\n",
       "      <th>imdb_id</th>\n",
       "      <th>popularity</th>\n",
       "      <th>runtime</th>\n",
       "      <th>title</th>\n",
       "      <th>vote_average</th>\n",
       "    </tr>\n",
       "  </thead>\n",
       "  <tbody>\n",
       "    <tr>\n",
       "      <th>0</th>\n",
       "      <td>4862</td>\n",
       "      <td>11232</td>\n",
       "      <td>tt0035423</td>\n",
       "      <td>7.196356</td>\n",
       "      <td>118.0</td>\n",
       "      <td>Kate &amp; Leopold</td>\n",
       "      <td>6.0</td>\n",
       "    </tr>\n",
       "    <tr>\n",
       "      <th>1</th>\n",
       "      <td>7649</td>\n",
       "      <td>5722</td>\n",
       "      <td>tt0065466</td>\n",
       "      <td>3.129943</td>\n",
       "      <td>109.0</td>\n",
       "      <td>Beyond the Valley of the Dolls</td>\n",
       "      <td>6.6</td>\n",
       "    </tr>\n",
       "    <tr>\n",
       "      <th>2</th>\n",
       "      <td>2420</td>\n",
       "      <td>1687</td>\n",
       "      <td>tt0067065</td>\n",
       "      <td>12.120267</td>\n",
       "      <td>98.0</td>\n",
       "      <td>Escape from the Planet of the Apes</td>\n",
       "      <td>6.3</td>\n",
       "    </tr>\n",
       "    <tr>\n",
       "      <th>3</th>\n",
       "      <td>1844</td>\n",
       "      <td>1051</td>\n",
       "      <td>tt0067116</td>\n",
       "      <td>6.694959</td>\n",
       "      <td>104.0</td>\n",
       "      <td>The French Connection</td>\n",
       "      <td>7.4</td>\n",
       "    </tr>\n",
       "    <tr>\n",
       "      <th>4</th>\n",
       "      <td>3607</td>\n",
       "      <td>482</td>\n",
       "      <td>tt0067741</td>\n",
       "      <td>3.73688</td>\n",
       "      <td>100.0</td>\n",
       "      <td>Shaft</td>\n",
       "      <td>6.5</td>\n",
       "    </tr>\n",
       "    <tr>\n",
       "      <th>...</th>\n",
       "      <td>...</td>\n",
       "      <td>...</td>\n",
       "      <td>...</td>\n",
       "      <td>...</td>\n",
       "      <td>...</td>\n",
       "      <td>...</td>\n",
       "      <td>...</td>\n",
       "    </tr>\n",
       "    <tr>\n",
       "      <th>1778</th>\n",
       "      <td>21162</td>\n",
       "      <td>117251</td>\n",
       "      <td>tt2334879</td>\n",
       "      <td>9.920223</td>\n",
       "      <td>131.0</td>\n",
       "      <td>White House Down</td>\n",
       "      <td>6.3</td>\n",
       "    </tr>\n",
       "    <tr>\n",
       "      <th>1779</th>\n",
       "      <td>21743</td>\n",
       "      <td>146238</td>\n",
       "      <td>tt2364841</td>\n",
       "      <td>8.864607</td>\n",
       "      <td>91.0</td>\n",
       "      <td>Runner Runner</td>\n",
       "      <td>5.5</td>\n",
       "    </tr>\n",
       "    <tr>\n",
       "      <th>1780</th>\n",
       "      <td>21614</td>\n",
       "      <td>112205</td>\n",
       "      <td>tt2404311</td>\n",
       "      <td>8.047735</td>\n",
       "      <td>111.0</td>\n",
       "      <td>The Family</td>\n",
       "      <td>6.1</td>\n",
       "    </tr>\n",
       "    <tr>\n",
       "      <th>1781</th>\n",
       "      <td>21171</td>\n",
       "      <td>136795</td>\n",
       "      <td>tt2404463</td>\n",
       "      <td>12.706403</td>\n",
       "      <td>117.0</td>\n",
       "      <td>The Heat</td>\n",
       "      <td>6.5</td>\n",
       "    </tr>\n",
       "    <tr>\n",
       "      <th>1782</th>\n",
       "      <td>22710</td>\n",
       "      <td>160068</td>\n",
       "      <td>tt2425486</td>\n",
       "      <td>3.534494</td>\n",
       "      <td>105.0</td>\n",
       "      <td>Gloria</td>\n",
       "      <td>6.2</td>\n",
       "    </tr>\n",
       "  </tbody>\n",
       "</table>\n",
       "<p>1783 rows × 7 columns</p>\n",
       "</div>"
      ],
      "text/plain": [
       "      index      id    imdb_id popularity  runtime  \\\n",
       "0      4862   11232  tt0035423   7.196356    118.0   \n",
       "1      7649    5722  tt0065466   3.129943    109.0   \n",
       "2      2420    1687  tt0067065  12.120267     98.0   \n",
       "3      1844    1051  tt0067116   6.694959    104.0   \n",
       "4      3607     482  tt0067741    3.73688    100.0   \n",
       "...     ...     ...        ...        ...      ...   \n",
       "1778  21162  117251  tt2334879   9.920223    131.0   \n",
       "1779  21743  146238  tt2364841   8.864607     91.0   \n",
       "1780  21614  112205  tt2404311   8.047735    111.0   \n",
       "1781  21171  136795  tt2404463  12.706403    117.0   \n",
       "1782  22710  160068  tt2425486   3.534494    105.0   \n",
       "\n",
       "                                   title  vote_average  \n",
       "0                         Kate & Leopold           6.0  \n",
       "1         Beyond the Valley of the Dolls           6.6  \n",
       "2     Escape from the Planet of the Apes           6.3  \n",
       "3                  The French Connection           7.4  \n",
       "4                                  Shaft           6.5  \n",
       "...                                  ...           ...  \n",
       "1778                    White House Down           6.3  \n",
       "1779                       Runner Runner           5.5  \n",
       "1780                          The Family           6.1  \n",
       "1781                            The Heat           6.5  \n",
       "1782                              Gloria           6.2  \n",
       "\n",
       "[1783 rows x 7 columns]"
      ]
     },
     "execution_count": 128,
     "metadata": {},
     "output_type": "execute_result"
    }
   ],
   "source": [
    "index = metadata['imdb_id'].isin(movies['imdb'])\n",
    "meta_g = metadata[index]\n",
    "meta_g = meta_g.sort_values('imdb_id')\n",
    "meta_g.reset_index(inplace=True)\n",
    "meta_g"
   ]
  },
  {
   "cell_type": "markdown",
   "id": "ca08e0ee",
   "metadata": {},
   "source": [
    "Now I will combine the datasets and drop redundant columns. I'm also replacing the words in the bechdel column with the corresponding score, and dropping dubious scores as they're uncertain."
   ]
  },
  {
   "cell_type": "code",
   "execution_count": 133,
   "id": "3fa24ca6",
   "metadata": {},
   "outputs": [
    {
     "data": {
      "text/html": [
       "<div>\n",
       "<style scoped>\n",
       "    .dataframe tbody tr th:only-of-type {\n",
       "        vertical-align: middle;\n",
       "    }\n",
       "\n",
       "    .dataframe tbody tr th {\n",
       "        vertical-align: top;\n",
       "    }\n",
       "\n",
       "    .dataframe thead th {\n",
       "        text-align: right;\n",
       "    }\n",
       "</style>\n",
       "<table border=\"1\" class=\"dataframe\">\n",
       "  <thead>\n",
       "    <tr style=\"text-align: right;\">\n",
       "      <th></th>\n",
       "      <th>year</th>\n",
       "      <th>imdb</th>\n",
       "      <th>bechdel</th>\n",
       "      <th>binary</th>\n",
       "      <th>budget_2013$</th>\n",
       "      <th>wwgross_2013$</th>\n",
       "      <th>ROI</th>\n",
       "      <th>title</th>\n",
       "      <th>vote_average</th>\n",
       "    </tr>\n",
       "  </thead>\n",
       "  <tbody>\n",
       "    <tr>\n",
       "      <th>0</th>\n",
       "      <td>2001</td>\n",
       "      <td>tt0035423</td>\n",
       "      <td>2</td>\n",
       "      <td>FAIL</td>\n",
       "      <td>63160606</td>\n",
       "      <td>93343188.0</td>\n",
       "      <td>147.787037</td>\n",
       "      <td>Kate &amp; Leopold</td>\n",
       "      <td>6.0</td>\n",
       "    </tr>\n",
       "    <tr>\n",
       "      <th>1</th>\n",
       "      <td>1970</td>\n",
       "      <td>tt0065466</td>\n",
       "      <td>3</td>\n",
       "      <td>PASS</td>\n",
       "      <td>5997631</td>\n",
       "      <td>53978683.0</td>\n",
       "      <td>900.000067</td>\n",
       "      <td>Beyond the Valley of the Dolls</td>\n",
       "      <td>6.6</td>\n",
       "    </tr>\n",
       "    <tr>\n",
       "      <th>2</th>\n",
       "      <td>1971</td>\n",
       "      <td>tt0067065</td>\n",
       "      <td>1</td>\n",
       "      <td>FAIL</td>\n",
       "      <td>14386286</td>\n",
       "      <td>70780525.0</td>\n",
       "      <td>491.999985</td>\n",
       "      <td>Escape from the Planet of the Apes</td>\n",
       "      <td>6.3</td>\n",
       "    </tr>\n",
       "    <tr>\n",
       "      <th>3</th>\n",
       "      <td>1971</td>\n",
       "      <td>tt0067116</td>\n",
       "      <td>1</td>\n",
       "      <td>FAIL</td>\n",
       "      <td>12659931</td>\n",
       "      <td>236848653.0</td>\n",
       "      <td>1870.852637</td>\n",
       "      <td>The French Connection</td>\n",
       "      <td>7.4</td>\n",
       "    </tr>\n",
       "    <tr>\n",
       "      <th>4</th>\n",
       "      <td>1971</td>\n",
       "      <td>tt0067741</td>\n",
       "      <td>1</td>\n",
       "      <td>FAIL</td>\n",
       "      <td>305063707</td>\n",
       "      <td>616827003.0</td>\n",
       "      <td>202.196128</td>\n",
       "      <td>Shaft</td>\n",
       "      <td>6.5</td>\n",
       "    </tr>\n",
       "  </tbody>\n",
       "</table>\n",
       "</div>"
      ],
      "text/plain": [
       "   year       imdb bechdel binary  budget_2013$  wwgross_2013$          ROI  \\\n",
       "0  2001  tt0035423       2   FAIL      63160606     93343188.0   147.787037   \n",
       "1  1970  tt0065466       3   PASS       5997631     53978683.0   900.000067   \n",
       "2  1971  tt0067065       1   FAIL      14386286     70780525.0   491.999985   \n",
       "3  1971  tt0067116       1   FAIL      12659931    236848653.0  1870.852637   \n",
       "4  1971  tt0067741       1   FAIL     305063707    616827003.0   202.196128   \n",
       "\n",
       "                                title  vote_average  \n",
       "0                      Kate & Leopold           6.0  \n",
       "1      Beyond the Valley of the Dolls           6.6  \n",
       "2  Escape from the Planet of the Apes           6.3  \n",
       "3               The French Connection           7.4  \n",
       "4                               Shaft           6.5  "
      ]
     },
     "execution_count": 133,
     "metadata": {},
     "output_type": "execute_result"
    }
   ],
   "source": [
    "movies_g = movies_g.reset_index()\n",
    "meta_g = meta_g.reset_index()\n",
    "combine = pd.concat(objs=[movies_g, meta_g], axis=1)\n",
    "combine = combine[['year', 'imdb', 'bechdel', 'binary', 'budget_2013$', 'wwgross_2013$', 'ROI', 'title', 'vote_average']]\n",
    "combine.head()\n",
    "\n",
    "#fixing bechdel column\n",
    "combine['bechdel'].replace(['ok', 'men', 'notalk', 'nowomen'], [3, 2, 1, 0], inplace=True)\n",
    "combine = combine[combine['bechdel'] != 'dubious']\n",
    "combine.head()"
   ]
  },
  {
   "cell_type": "code",
   "execution_count": null,
   "id": "bdc6daf7",
   "metadata": {},
   "outputs": [],
   "source": [
    "combine.groupby(['bechdel'])['vote_average'].describe()"
   ]
  },
  {
   "cell_type": "markdown",
   "id": "c905e9b6",
   "metadata": {},
   "source": [
    "There doesn't seem to be much of a difference in ratings by bechdel score, either."
   ]
  },
  {
   "cell_type": "markdown",
   "id": "c273f9b7",
   "metadata": {},
   "source": [
    "What years have the most rows (movies) in this dataset? I want to look at some of the years with the most movies to look at vote average by bechdel score."
   ]
  },
  {
   "cell_type": "code",
   "execution_count": null,
   "id": "50a3a292",
   "metadata": {},
   "outputs": [],
   "source": [
    "combine['year2'] = combine['year']\n",
    "movie_totals = pd.DataFrame(dtype='int64')\n",
    "def sum_movies(x):\n",
    "    global movie_totals\n",
    "    year = pd.unique(x['year2'])[0]\n",
    "    total = x.shape[0]\n",
    "    toConcat = pd.DataFrame([[year, total]], columns=['year', 'movies'])\n",
    "    movie_totals = pd.concat([movie_totals, toConcat])\n",
    "    \n",
    "by_year = combine.groupby(['year'])\n",
    "by_year.apply(sum_movies)\n",
    "movie_totals = movie_totals.sort_values('movies', ascending=False)\n",
    "movie_totals.head()"
   ]
  },
  {
   "cell_type": "code",
   "execution_count": null,
   "id": "8bd76833",
   "metadata": {},
   "outputs": [],
   "source": [
    "def ratings_bechdel(x, year):\n",
    "    ratings = x.groupby('bechdel')['vote_average'].mean().reset_index()\n",
    "    ratings.plot.barh(x='bechdel',y='vote_average',title=year)\n",
    "    \n",
    "ratings_bechdel(combine[combine['year'] == 2010], '2010')\n",
    "ratings_bechdel(combine[combine['year'] == 2009], '2009')\n",
    "ratings_bechdel(combine[combine['year'] == 2011], '2011')"
   ]
  },
  {
   "cell_type": "markdown",
   "id": "144d70c1",
   "metadata": {},
   "source": [
    "Again, there doesn't seem to be much of a difference in vote average across bechdel scores. Using this visualization can be hard to tell, though, so I will also look at the describe function."
   ]
  },
  {
   "cell_type": "code",
   "execution_count": null,
   "id": "7e738039",
   "metadata": {},
   "outputs": [],
   "source": [
    "combine.groupby(['bechdel'])['vote_average'].describe()"
   ]
  },
  {
   "cell_type": "code",
   "execution_count": null,
   "id": "e7759400",
   "metadata": {},
   "outputs": [],
   "source": [
    "combine.hist(column='vote_average', by = 'bechdel');"
   ]
  },
  {
   "cell_type": "code",
   "execution_count": null,
   "id": "e03ff5bd",
   "metadata": {},
   "outputs": [],
   "source": [
    "budget_df = combine.sort_values(by='budget_2013$', ascending=False)\n",
    "top = budget_df[0:100]\n",
    "top['bechdel'].value_counts()"
   ]
  },
  {
   "cell_type": "code",
   "execution_count": null,
   "id": "e6125b5a",
   "metadata": {},
   "outputs": [],
   "source": [
    "bottom = budget_df.tail(100)\n",
    "bottom['bechdel'].value_counts()"
   ]
  },
  {
   "cell_type": "markdown",
   "id": "8b039415",
   "metadata": {},
   "source": [
    "I think it's interesting that the 100 lowest-budget movies had a better pass rate than the 100 highest-budget movies did. It's also important to note that it may be easier to have lower-budget movies be directed and produced by more diverse teams, as it may be people trying to \"break into the scene\" as opposed to higher-budget movies where fewer, more powerful people are behind the majority of movies.\n",
    "\n",
    "There are many aspects in which modern media can improve representation of different identites, but I definitely hope to see better pass rates for movies with the Bechdel test in my lifetime."
   ]
  }
 ],
 "metadata": {
  "kernelspec": {
   "display_name": "Python 3 (ipykernel)",
   "language": "python",
   "name": "python3"
  },
  "language_info": {
   "codemirror_mode": {
    "name": "ipython",
    "version": 3
   },
   "file_extension": ".py",
   "mimetype": "text/x-python",
   "name": "python",
   "nbconvert_exporter": "python",
   "pygments_lexer": "ipython3",
   "version": "3.9.7"
  }
 },
 "nbformat": 4,
 "nbformat_minor": 5
}
